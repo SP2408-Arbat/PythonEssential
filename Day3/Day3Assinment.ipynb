{
 "cells": [
  {
   "cell_type": "markdown",
   "metadata": {},
   "source": [
    "# Find Sum Of n Numbers with the help of While loop"
   ]
  },
  {
   "cell_type": "code",
   "execution_count": 1,
   "metadata": {},
   "outputs": [
    {
     "name": "stdout",
     "output_type": "stream",
     "text": [
      "Enter the number from which you want to add12\n",
      "1 --> 0\n",
      "2 --> 1\n",
      "3 --> 3\n",
      "4 --> 6\n",
      "5 --> 10\n",
      "6 --> 15\n",
      "7 --> 21\n",
      "8 --> 28\n",
      "9 --> 36\n",
      "10 --> 45\n",
      "11 --> 55\n",
      "12 --> 66\n",
      "13 --> 78\n",
      "Sum of numbers is  78\n"
     ]
    }
   ],
   "source": [
    "sum=0\n",
    "i=0\n",
    "num=eval(input(\"Enter the number from which you want to add\"))\n",
    "while i<=num:\n",
    "    sum=sum+i\n",
    "    i=i+1\n",
    "    print(i,\"-->\",sum);\n",
    "print(\"Sum of numbers is \",sum)"
   ]
  },
  {
   "cell_type": "markdown",
   "metadata": {},
   "source": [
    "# Take an Integer and check wheather the number is prime or not"
   ]
  },
  {
   "cell_type": "code",
   "execution_count": 2,
   "metadata": {},
   "outputs": [
    {
     "name": "stdout",
     "output_type": "stream",
     "text": [
      "Enter the number30\n",
      "3 is prime number\n",
      "4 Number is not prime\n",
      "5 is prime number\n",
      "6 Number is not prime\n",
      "7 is prime number\n",
      "8 Number is not prime\n",
      "9 Number is not prime\n",
      "10 Number is not prime\n",
      "11 is prime number\n",
      "12 Number is not prime\n",
      "13 is prime number\n",
      "14 Number is not prime\n",
      "15 Number is not prime\n",
      "16 Number is not prime\n",
      "17 is prime number\n",
      "18 Number is not prime\n",
      "19 is prime number\n",
      "20 Number is not prime\n",
      "21 Number is not prime\n",
      "22 Number is not prime\n",
      "23 is prime number\n",
      "24 Number is not prime\n",
      "25 Number is not prime\n",
      "26 Number is not prime\n",
      "27 Number is not prime\n",
      "28 Number is not prime\n",
      "29 is prime number\n",
      "30 Number is not prime\n"
     ]
    }
   ],
   "source": [
    "num=int(input(\"Enter the number\"))\n",
    "for item in range(1,num+1):\n",
    "    num=item\n",
    "    if num>1:\n",
    "        for i in range(2,int(num)):\n",
    "            if(num%i==0):\n",
    "                print(num,\"Number is not prime\")\n",
    "                break;\n",
    "            else:\n",
    "                if i==num//2 + 1:\n",
    "                    \n",
    "                    print(num,\"is prime number\")"
   ]
  },
  {
   "cell_type": "markdown",
   "metadata": {},
   "source": [
    "anoter way"
   ]
  },
  {
   "cell_type": "code",
   "execution_count": 3,
   "metadata": {},
   "outputs": [
    {
     "name": "stdout",
     "output_type": "stream",
     "text": [
      "Enter the number20\n",
      "20 Number is not prime number\n"
     ]
    }
   ],
   "source": [
    "num=int(input(\"Enter the number\"))\n",
    "flag=0\n",
    "i=2\n",
    "while i<num//2:\n",
    "    if(num%i==0):\n",
    "        print(num,\"Number is not prime number\")\n",
    "        flag=1\n",
    "        break\n",
    "    if(flag==0):\n",
    "        print(num,\"Number is Prime\")\n",
    "    \n",
    "            "
   ]
  },
  {
   "cell_type": "code",
   "execution_count": null,
   "metadata": {},
   "outputs": [],
   "source": [
    "num=int(input(\"Enter the number\"))\n",
    "if num > 1: \n",
    "      \n",
    "    \n",
    "   for i in range(2, num): \n",
    "         \n",
    "         \n",
    "         \n",
    "       if (num % i) == 0: \n",
    "           print(num, \"is not a prime number\") \n",
    "           break\n",
    "   else: \n",
    "       print(num, \"is a prime number\") \n",
    "  \n",
    "else: \n",
    "   print(num, \"is not a prime number\")"
   ]
  },
  {
   "cell_type": "code",
   "execution_count": null,
   "metadata": {},
   "outputs": [],
   "source": []
  }
 ],
 "metadata": {
  "kernelspec": {
   "display_name": "Python 3",
   "language": "python",
   "name": "python3"
  },
  "language_info": {
   "codemirror_mode": {
    "name": "ipython",
    "version": 3
   },
   "file_extension": ".py",
   "mimetype": "text/x-python",
   "name": "python",
   "nbconvert_exporter": "python",
   "pygments_lexer": "ipython3",
   "version": "3.7.6"
  }
 },
 "nbformat": 4,
 "nbformat_minor": 4
}
