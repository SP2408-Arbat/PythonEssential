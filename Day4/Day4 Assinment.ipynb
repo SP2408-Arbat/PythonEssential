{
 "cells": [
  {
   "cell_type": "markdown",
   "metadata": {},
   "source": [
    "# Find all oocurance of substring in given string input>\"string print the all the indexces in the string# "
   ]
  },
  {
   "cell_type": "code",
   "execution_count": 13,
   "metadata": {},
   "outputs": [
    {
     "name": "stdout",
     "output_type": "stream",
     "text": [
      "Enter the string you want to checkwe\n",
      "The Orignal string is: What we think we become; we are Python programer\n",
      "The substring for check: we\n",
      "1 st occurance of we at 5\n",
      "2 st occurance of we at 14\n",
      "3 st occurance of we at 25\n"
     ]
    }
   ],
   "source": [
    "a=\"What we think we become; we are Python programer\"\n",
    "b=input(\"Enter the string you want to check\")\n",
    "print(\"The Orignal string is:\",a)\n",
    "print(\"The substring for check:\",b)\n",
    "res=[i for i in range(len(a)) if a.startswith(b, i)]\n",
    "count=1\n",
    "for each in res:\n",
    "    print(count,\"st occurance of\",b,\"at\",each)\n",
    "    count=count+1\n"
   ]
  },
  {
   "cell_type": "markdown",
   "metadata": {},
   "source": [
    "# Explain usin islower() isupper() Using diffrent strings"
   ]
  },
  {
   "cell_type": "code",
   "execution_count": 16,
   "metadata": {},
   "outputs": [
    {
     "name": "stdout",
     "output_type": "stream",
     "text": [
      "False\n"
     ]
    },
    {
     "data": {
      "text/plain": [
       "False"
      ]
     },
     "execution_count": 16,
     "metadata": {},
     "output_type": "execute_result"
    }
   ],
   "source": [
    "a=\"My name is XYZ\"\n",
    "print(a.islower())\n",
    "a.isupper()"
   ]
  },
  {
   "cell_type": "code",
   "execution_count": 17,
   "metadata": {},
   "outputs": [
    {
     "name": "stdout",
     "output_type": "stream",
     "text": [
      "True\n",
      "False\n"
     ]
    }
   ],
   "source": [
    "b=\"my name is pk\"\n",
    "print(b.islower())\n",
    "print(b.isupper())"
   ]
  },
  {
   "cell_type": "code",
   "execution_count": 19,
   "metadata": {},
   "outputs": [
    {
     "name": "stdout",
     "output_type": "stream",
     "text": [
      "False\n",
      "True\n"
     ]
    }
   ],
   "source": [
    "c=\"HAPPY TO LERN WITH LETUPGRADE\"\n",
    "print(c.islower())\n",
    "print(c.isupper())"
   ]
  },
  {
   "cell_type": "code",
   "execution_count": null,
   "metadata": {},
   "outputs": [],
   "source": []
  }
 ],
 "metadata": {
  "kernelspec": {
   "display_name": "Python 3",
   "language": "python",
   "name": "python3"
  },
  "language_info": {
   "codemirror_mode": {
    "name": "ipython",
    "version": 3
   },
   "file_extension": ".py",
   "mimetype": "text/x-python",
   "name": "python",
   "nbconvert_exporter": "python",
   "pygments_lexer": "ipython3",
   "version": "3.7.6"
  }
 },
 "nbformat": 4,
 "nbformat_minor": 4
}
